{
 "cells": [
  {
   "cell_type": "markdown",
   "metadata": {},
   "source": [
    "start"
   ]
  },
  {
   "cell_type": "code",
   "execution_count": 1,
   "metadata": {},
   "outputs": [],
   "source": [
    "import pandas as pd\n",
    "from sklearn.feature_extraction.text import TfidfVectorizer\n",
    "from sklearn.linear_model import LogisticRegression\n",
    "from sklearn.metrics import classification_report"
   ]
  },
  {
   "cell_type": "code",
   "execution_count": 3,
   "metadata": {},
   "outputs": [
    {
     "name": "stderr",
     "output_type": "stream",
     "text": [
      "IOPub data rate exceeded.\n",
      "The Jupyter server will temporarily stop sending output\n",
      "to the client in order to avoid crashing it.\n",
      "To change this limit, set the config variable\n",
      "`--ServerApp.iopub_data_rate_limit`.\n",
      "\n",
      "Current values:\n",
      "ServerApp.iopub_data_rate_limit=1000000.0 (bytes/sec)\n",
      "ServerApp.rate_limit_window=3.0 (secs)\n",
      "\n"
     ]
    }
   ],
   "source": [
    "import re\n",
    "\n",
    "def read_and_process(filename):\n",
    "  \"\"\"\n",
    "  Đọc file txt, xử lý dữ liệu và trả về kết quả.\n",
    "  Returns:\n",
    "    str: Dữ liệu đã được xử lý và nối chuỗi với ký tự xuống dòng.\n",
    "  \"\"\"\n",
    "  with open(filename, \"r\") as f:\n",
    "    data = f.read()\n",
    "\n",
    "  # Tạo biến để lưu trữ kết quả\n",
    "  processed_data = \"\"\n",
    "\n",
    "  # Xử lý dữ liệu theo từng dòng\n",
    "  for line in data.splitlines():\n",
    "    # Loại bỏ ký tự đặc biệt\n",
    "    line = re.sub(r\"[^\\w\\s]\", \"\", line)\n",
    "\n",
    "    # Loại bỏ khoảng trắng thừa\n",
    "    pattern = r\"\\s+\"\n",
    "    line = re.sub(pattern, \" \", line)\n",
    "\n",
    "    # Chuyển đổi sang chữ thường\n",
    "    line = line.lower()\n",
    "\n",
    "    # Thêm dữ liệu đã được xử lý vào biến kết quả\n",
    "    processed_data += line + \"\\n\"\n",
    "\n",
    "  # Loại bỏ ký tự xuống dòng thừa ở cuối\n",
    "  processed_data = processed_data[:-1]\n",
    "\n",
    "  return processed_data\n",
    "\n",
    "filename_train = \"/app/3.topic_detection_train.v1.0.txt\"\n",
    "filename_test = \"/app/3.topic_detection_test.v1.0.txt\"\n",
    "\n",
    "# Đọc và xử lý dữ liệu\n",
    "processed_data_train = read_and_process(filename_train)\n",
    "processed_data_test =read_and_process(filename_test)\n",
    "\n",
    "# print(processed_data_train)\n",
    "# print(processed_data_test)"
   ]
  },
  {
   "cell_type": "code",
   "execution_count": 4,
   "metadata": {},
   "outputs": [
    {
     "data": {
      "text/html": [
       "<div>\n",
       "<style scoped>\n",
       "    .dataframe tbody tr th:only-of-type {\n",
       "        vertical-align: middle;\n",
       "    }\n",
       "\n",
       "    .dataframe tbody tr th {\n",
       "        vertical-align: top;\n",
       "    }\n",
       "\n",
       "    .dataframe thead th {\n",
       "        text-align: right;\n",
       "    }\n",
       "</style>\n",
       "<table border=\"1\" class=\"dataframe\">\n",
       "  <thead>\n",
       "    <tr style=\"text-align: right;\">\n",
       "      <th></th>\n",
       "      <th>label</th>\n",
       "      <th>content</th>\n",
       "    </tr>\n",
       "  </thead>\n",
       "  <tbody>\n",
       "    <tr>\n",
       "      <th>0</th>\n",
       "      <td>__label__nha_dat</td>\n",
       "      <td>gấp hiện bên em đang cần thuê 1 phòng có diện tích từ 25m đến 40m tại khu vực yên lãng ngã tư sở hoặc xung quanh không quá 3km giá thuê từ 5 đến 7tr anh chị nào có giới thiệu em với em xin cảm ơn</td>\n",
       "    </tr>\n",
       "    <tr>\n",
       "      <th>1</th>\n",
       "      <td>__label__mang_internet_va_vien_thong</td>\n",
       "      <td>chào noel đón mưa quà tặng nhân dịp noel viettel triển khai chương trình khuyến mại với nhiều ưu đãi hấp dẫn hơn dành cho khách hàng đăng ký lắp đặt dịch vụ internet từ ngày 2312 đến hết ngày 3112 đăng ký ngay internet tại hà nội và hcm shopviettelvnlandingftth1 đăng ký ngay tại 61 tỉnh thành shopviettelvnlandingftth2 đóng trước 3 tháng tặng ngay 1 tháng đóng trước 6 tháng tặng ngay 2 tháng đóng trước 12 tháng tặng ngay 4 tháng đóng trước 18 tháng tặng ngay 6 tháng truy cập ngay httpsshopviettelvnfp và ứng dụng my viettel httpsviettelvnapp15 để xem và tham khảo các gói cước liên hệ 18008168 để được tư vấn và hỗ trợ chi tiết chương trình xem tại link httpsgoogl12emjd</td>\n",
       "    </tr>\n",
       "    <tr>\n",
       "      <th>2</th>\n",
       "      <td>__label__kinh_doanh_va_cong_nghiep</td>\n",
       "      <td>khởi công xây dựng 33 căn nhà phố liền kề chỉ 600 triệu căn cơ hội để đầu tư đất nền chỉ 275trnền tặng ngay 5 chỉ vàng liên hệ 01207282996 đất xây tự do không lo về giá hạnh phúc an cư đầu tư lý tưởng có xe đưa đón khách tham quan vào thứ 5 và chủ nhật hàng tuần vị trí đắc địa nằm trên đường ql50 một vị trí giao thông thuận lợi là cửa ngõ vào tphcm và các tỉnh miền tây liền kề bệnh viện đa khoa và trung tâm hành chính cách trụ sở công an 80m tiện ích dự án nơi hội tụ trọng điểm các khu công nghiệpnơi giao thương kinh tếkhu dân cư đông đúc khu dân cư an bình happy land mang đến vẻ đẹp phong cách châu âu thoáng mát yên tĩnh khu dân cư an bình happy land được xếp vào một trong các khu đô thị bậc nhất mang đến không gian sống lý tưởng cho mọi gia đình diện tích đất nền đa dạng phù hợp kinh doanhbuôn bánxây trọ nhà hàng cây xăng hotell cho thuê</td>\n",
       "    </tr>\n",
       "    <tr>\n",
       "      <th>3</th>\n",
       "      <td>__label__sach</td>\n",
       "      <td>sáng ngày hôm nay btc rất vui khi nhận được sách tài trợ của nhà sách nhã nam chắc hẳn các bạn độc giả cũng rất hào hứng khi nghe đến cái tên nhã nam đúng không vậy hãy tích cực tham gia những minigame trên fanpage và event của hội sách để nhận được những cuốn sách bất ngờ từ nhã nam nhé ngoài ra bạn nào là fan ruột hay yêu thích nhã nam thì có thể tham gia hẹn hò với họ ở event dưới đây nhé chúc nhã nam có một mùa hội sách thành công</td>\n",
       "    </tr>\n",
       "    <tr>\n",
       "      <th>4</th>\n",
       "      <td>__label__nha_dat</td>\n",
       "      <td>cần cho thuê căn hộ chung cư dưới sài đồng đối diện vimhom long biên nhà thang máy 98 m2 có 2 pn 1 pk 2 wc đã trang bị đầy đủ đồ trong nhà chỉ việc sách valy tới ở thôi ạ giá thuê 8 triệucăn hộ trung tâm của khu với nhiều tiện ích gần chợ gần trường học siêu thị vimhom siêu thi aon rất thuận tiện cho sinh hoạt xin lh 0982548668 0985023311nhanh tay bấm gọi để sử dụng căn nhà ưng ý nhất ạ</td>\n",
       "    </tr>\n",
       "    <tr>\n",
       "      <th>...</th>\n",
       "      <td>...</td>\n",
       "      <td>...</td>\n",
       "    </tr>\n",
       "    <tr>\n",
       "      <th>10012</th>\n",
       "      <td>__label__do_an_va_do_uong</td>\n",
       "      <td>tổng hợp những món ngon khu vực đào tấn ba đình 3 3 3 3 1 bánh mì bò nướng bánh mì ba béo số 107 đào tấn ba đình từ 97 đào tấn chuyển về 25kcái 3 2 trà sủi bọt lá cây bobapop số 103 đào tấn ba đình 38kcốc 3 3 gà cuộn phomai healthy corner số 34 đào tấn ba đình 140ksuất 3 4 kem cá chocolate amory số 78 đào tấn ba đình 35kcái 3 5 đồ hàn quốc gimbab house số 83 đào tấn ba đình khoảng 100kngười 3 6 beef steak the kafe số 11 đào tấn ba đình 3 7 bánh bao kim sa trà sữa ding tea số 15a đào tấn ba đình 3 8 bánh cuộn trà xanh vanilla cake drink số 22 ngõ 36 đào tấn ba đình 28kmiếng 3 9 rau thập cẩm kho quẹt miệt vườn quán số 81 đào tấn ba đình 85ksuất 3 10 pizza dăm bông dứa xúc xích al frescos số 88 đào tấn ba đình 225kcái 3 11 sườn xào an nam cháo số 18 đào tấn ba đình 80ksuất 3 12 gà bỏ lò phô mai kampong chicken house số 16 đào tấn ba đình 179ksuất 3 13 nem lụi nướng huế restaurent số 1 ngõ 36 đào tấn ba đình 3 14 bún thang số 5658 đào tấn ba đình 30kbát 3 15 tào phớ thập cẩm tào phớ cô thuyết 7kbát 3 16 bún thang lươn số 112 đào tấn ba đình 30kbát 3 17 bún cá nga béo số 56 đào tấn ba đình 3 18 súp lươn quán oanh số 24 đào tấn ba đình 25kbát 3 chúc cả nhà ngon miệng nhé</td>\n",
       "    </tr>\n",
       "    <tr>\n",
       "      <th>10013</th>\n",
       "      <td>__label__tai_chinh</td>\n",
       "      <td>bản tin tài chính kinh doanh tối thứ sáu 2308 httpswwwyoutubecomwatchvkaouczkq_eilistplzdg4jpgbm4pjw3lbacsswwvqala92nbx tin trong nước hà nội nghị định mới vể tăng phí trông xe lạc hậu ngay từ khi ra đời tphcm bắt vụ buôn lậu thuốc lá lớn nhất từ trước đến nay bắc giang hệ lụy từ việc khai thác khoáng sản trái phép không lùi thời gian thông xe tuyến cao tốc hà nội hải phòng khẳng định của ptt hoàng trung hải giao dịch ký quỹ trên thị trường chứng khoán còn nhiều hạn chế tin quốc tế đức thông qua thỏa thuận bán công ty dầu cho nga scotland có thể bị thoái vốn đầu tư nếu tách khỏi anh nhật bản đối mặt với vấn đề thiếu lao động trầm trọng mỹ thiệt hại hàng tỷ usd với công nghệ thẻ từ và bài toán làm sao để chuyển đổi công nghệ sang thẻ chip ấn tượng trong ngày xe y tế lưu động vớ trang thiết bị hiện đại đã bỏ không 7 năm tại cung tt quần ngựa btv minh hằng vtv24 bantin taichinh kinhdoanh hoaquang</td>\n",
       "    </tr>\n",
       "    <tr>\n",
       "      <th>10014</th>\n",
       "      <td>__label__giai_tri</td>\n",
       "      <td>ngang nhiên vừa hack vừa stream game thủ overwatch bị ban ngay giữa trận đấu chỉ 3 phút sau khi chơi game cheater này đã bị đá văng ra màn hình đăng nhập vĩnh viễn khóa tài khoản overwatch của kẻ này</td>\n",
       "    </tr>\n",
       "    <tr>\n",
       "      <th>10015</th>\n",
       "      <td>__label__du_lich</td>\n",
       "      <td>5 tour nước ngoài dịp giáng sinh năm mới giá tốt ở văn phòng saigontourist 31k láng hạ như đã hẹn hôm nay saigontourist sẽ cập nhật 5 tour nước ngoài hot nhất vào đúng dịp giáng sinh năm mới tại văn phòng mới của saigontourist ở 31k láng hạ q ba đình ngoài ra khi mua tour trong thời gian từ 2511 412 bạn sẽ được nhận thêm voucher quà tặng và nhiều phần quà khác tour hàn quốc 5 ngày seoul nami everland fanstatic show khởi hành 2912 giá từ 10900000 đồng tiết kiệm 1 triệu đồng tour nhật bản 6 ngày matsuyama okayama kobe kyoto osaka eo biển naruto khởi hành 2812 giá từ 27900000đ tiết kiệm 1 triệu đồng hồng kông free easy 4 ngày khởi hành 2912 giá từ 14990000đ tiết kiệm 1 triệu đồng thái lan 5 ngày hàng không vietnam airlines khởi hành 2212 giá từ 6999000đ tiết kiệm 1 triệu đồng singapore 4 ngày khởi hành 3012 giá từ 13690000đ tiết kiệm 300000 đồng liên hệ chi tiết du lịch trong nước 0975 502 148 du lịch nước ngoài 0904 148 446 tham khảo chi tiết tại httpwwwdulichthudongcomtinkhuyenmai_chitietphpnewsid11554 lữ hành saigontourist hà nội q hoàn kiếm 55b phan chu trinh q long biên 351 nguyễn văn cừ q tây hồ tầng 11 249a thụy khuê 0988356996 quảng ninh 358 đường hạ long tổ 3 khu 6 0936954858 hải phòng 02 trần quang khải 0987555588 saigontourist travel langhahanoi</td>\n",
       "    </tr>\n",
       "    <tr>\n",
       "      <th>10016</th>\n",
       "      <td>__label__nha_dat</td>\n",
       "      <td>nhượng phòng không khép kín ở ngõ 63 xuân thủy giá 1tr1 đóng 1 tháng cọc 1 tháng hợp đồng hết tháng 8 điện 4ksố nước 100kngười mạng 60k xe máy 100k đạp điện 150k giờ giấc thoải mái có chìa khóa cổng đối diện học viện báo chí tuyên truyền gần chợ xanh 3 phòng chung 1 nhà tắm nhưng 2 phòng kia di làm sáng sớm tối mới về nên cũng thoải mái ạ cuối tháng có thể chuyển đến luôn phòng mát lắm nhé lh 01664792148</td>\n",
       "    </tr>\n",
       "  </tbody>\n",
       "</table>\n",
       "<p>10017 rows × 2 columns</p>\n",
       "</div>"
      ],
      "text/plain": [
       "                                      label  \\\n",
       "0                          __label__nha_dat   \n",
       "1      __label__mang_internet_va_vien_thong   \n",
       "2        __label__kinh_doanh_va_cong_nghiep   \n",
       "3                             __label__sach   \n",
       "4                          __label__nha_dat   \n",
       "...                                     ...   \n",
       "10012             __label__do_an_va_do_uong   \n",
       "10013                    __label__tai_chinh   \n",
       "10014                     __label__giai_tri   \n",
       "10015                      __label__du_lich   \n",
       "10016                      __label__nha_dat   \n",
       "\n",
       "                                                                                                                                                                                                                                                                                                                                                                                                                                                                                                                                                                                                                                                                                                                                                                                                                                                                                                                                                                                                                                                                                                                                                                                                                                                                                                                         content  \n",
       "0                                                                                                                                                                                                                                                                                                                                                                                                                                                                                                                                                                                                                                                                                                                                                                                                                                                                                                                                                                                                                                                                                                                           gấp hiện bên em đang cần thuê 1 phòng có diện tích từ 25m đến 40m tại khu vực yên lãng ngã tư sở hoặc xung quanh không quá 3km giá thuê từ 5 đến 7tr anh chị nào có giới thiệu em với em xin cảm ơn   \n",
       "1                                                                                                                                                                                                                                                                                                                                                                                                                                                                                                                                                                                                                             chào noel đón mưa quà tặng nhân dịp noel viettel triển khai chương trình khuyến mại với nhiều ưu đãi hấp dẫn hơn dành cho khách hàng đăng ký lắp đặt dịch vụ internet từ ngày 2312 đến hết ngày 3112 đăng ký ngay internet tại hà nội và hcm shopviettelvnlandingftth1 đăng ký ngay tại 61 tỉnh thành shopviettelvnlandingftth2 đóng trước 3 tháng tặng ngay 1 tháng đóng trước 6 tháng tặng ngay 2 tháng đóng trước 12 tháng tặng ngay 4 tháng đóng trước 18 tháng tặng ngay 6 tháng truy cập ngay httpsshopviettelvnfp và ứng dụng my viettel httpsviettelvnapp15 để xem và tham khảo các gói cước liên hệ 18008168 để được tư vấn và hỗ trợ chi tiết chương trình xem tại link httpsgoogl12emjd  \n",
       "2                                                                                                                                                                                                                                                                                                                                                                                                                                            khởi công xây dựng 33 căn nhà phố liền kề chỉ 600 triệu căn cơ hội để đầu tư đất nền chỉ 275trnền tặng ngay 5 chỉ vàng liên hệ 01207282996 đất xây tự do không lo về giá hạnh phúc an cư đầu tư lý tưởng có xe đưa đón khách tham quan vào thứ 5 và chủ nhật hàng tuần vị trí đắc địa nằm trên đường ql50 một vị trí giao thông thuận lợi là cửa ngõ vào tphcm và các tỉnh miền tây liền kề bệnh viện đa khoa và trung tâm hành chính cách trụ sở công an 80m tiện ích dự án nơi hội tụ trọng điểm các khu công nghiệpnơi giao thương kinh tếkhu dân cư đông đúc khu dân cư an bình happy land mang đến vẻ đẹp phong cách châu âu thoáng mát yên tĩnh khu dân cư an bình happy land được xếp vào một trong các khu đô thị bậc nhất mang đến không gian sống lý tưởng cho mọi gia đình diện tích đất nền đa dạng phù hợp kinh doanhbuôn bánxây trọ nhà hàng cây xăng hotell cho thuê  \n",
       "3                                                                                                                                                                                                                                                                                                                                                                                                                                                                                                                                                                                                                                                                                                                                                                                                                                                                         sáng ngày hôm nay btc rất vui khi nhận được sách tài trợ của nhà sách nhã nam chắc hẳn các bạn độc giả cũng rất hào hứng khi nghe đến cái tên nhã nam đúng không vậy hãy tích cực tham gia những minigame trên fanpage và event của hội sách để nhận được những cuốn sách bất ngờ từ nhã nam nhé ngoài ra bạn nào là fan ruột hay yêu thích nhã nam thì có thể tham gia hẹn hò với họ ở event dưới đây nhé chúc nhã nam có một mùa hội sách thành công  \n",
       "4                                                                                                                                                                                                                                                                                                                                                                                                                                                                                                                                                                                                                                                                                                                                                                                                                                                                                                                          cần cho thuê căn hộ chung cư dưới sài đồng đối diện vimhom long biên nhà thang máy 98 m2 có 2 pn 1 pk 2 wc đã trang bị đầy đủ đồ trong nhà chỉ việc sách valy tới ở thôi ạ giá thuê 8 triệucăn hộ trung tâm của khu với nhiều tiện ích gần chợ gần trường học siêu thị vimhom siêu thi aon rất thuận tiện cho sinh hoạt xin lh 0982548668 0985023311nhanh tay bấm gọi để sử dụng căn nhà ưng ý nhất ạ  \n",
       "...                                                                                                                                                                                                                                                                                                                                                                                                                                                                                                                                                                                                                                                                                                                                                                                                                                                                                                                                                                                                                                                                                                                                                                                                                                                                                                                          ...  \n",
       "10012                                                                                           tổng hợp những món ngon khu vực đào tấn ba đình 3 3 3 3 1 bánh mì bò nướng bánh mì ba béo số 107 đào tấn ba đình từ 97 đào tấn chuyển về 25kcái 3 2 trà sủi bọt lá cây bobapop số 103 đào tấn ba đình 38kcốc 3 3 gà cuộn phomai healthy corner số 34 đào tấn ba đình 140ksuất 3 4 kem cá chocolate amory số 78 đào tấn ba đình 35kcái 3 5 đồ hàn quốc gimbab house số 83 đào tấn ba đình khoảng 100kngười 3 6 beef steak the kafe số 11 đào tấn ba đình 3 7 bánh bao kim sa trà sữa ding tea số 15a đào tấn ba đình 3 8 bánh cuộn trà xanh vanilla cake drink số 22 ngõ 36 đào tấn ba đình 28kmiếng 3 9 rau thập cẩm kho quẹt miệt vườn quán số 81 đào tấn ba đình 85ksuất 3 10 pizza dăm bông dứa xúc xích al frescos số 88 đào tấn ba đình 225kcái 3 11 sườn xào an nam cháo số 18 đào tấn ba đình 80ksuất 3 12 gà bỏ lò phô mai kampong chicken house số 16 đào tấn ba đình 179ksuất 3 13 nem lụi nướng huế restaurent số 1 ngõ 36 đào tấn ba đình 3 14 bún thang số 5658 đào tấn ba đình 30kbát 3 15 tào phớ thập cẩm tào phớ cô thuyết 7kbát 3 16 bún thang lươn số 112 đào tấn ba đình 30kbát 3 17 bún cá nga béo số 56 đào tấn ba đình 3 18 súp lươn quán oanh số 24 đào tấn ba đình 25kbát 3 chúc cả nhà ngon miệng nhé   \n",
       "10013                                                                                                                                                                                                                                                                                                                                                                                 bản tin tài chính kinh doanh tối thứ sáu 2308 httpswwwyoutubecomwatchvkaouczkq_eilistplzdg4jpgbm4pjw3lbacsswwvqala92nbx tin trong nước hà nội nghị định mới vể tăng phí trông xe lạc hậu ngay từ khi ra đời tphcm bắt vụ buôn lậu thuốc lá lớn nhất từ trước đến nay bắc giang hệ lụy từ việc khai thác khoáng sản trái phép không lùi thời gian thông xe tuyến cao tốc hà nội hải phòng khẳng định của ptt hoàng trung hải giao dịch ký quỹ trên thị trường chứng khoán còn nhiều hạn chế tin quốc tế đức thông qua thỏa thuận bán công ty dầu cho nga scotland có thể bị thoái vốn đầu tư nếu tách khỏi anh nhật bản đối mặt với vấn đề thiếu lao động trầm trọng mỹ thiệt hại hàng tỷ usd với công nghệ thẻ từ và bài toán làm sao để chuyển đổi công nghệ sang thẻ chip ấn tượng trong ngày xe y tế lưu động vớ trang thiết bị hiện đại đã bỏ không 7 năm tại cung tt quần ngựa btv minh hằng vtv24 bantin taichinh kinhdoanh hoaquang  \n",
       "10014                                                                                                                                                                                                                                                                                                                                                                                                                                                                                                                                                                                                                                                                                                                                                                                                                                                                                                                                                                                                                                                                                                                    ngang nhiên vừa hack vừa stream game thủ overwatch bị ban ngay giữa trận đấu chỉ 3 phút sau khi chơi game cheater này đã bị đá văng ra màn hình đăng nhập vĩnh viễn khóa tài khoản overwatch của kẻ này  \n",
       "10015  5 tour nước ngoài dịp giáng sinh năm mới giá tốt ở văn phòng saigontourist 31k láng hạ như đã hẹn hôm nay saigontourist sẽ cập nhật 5 tour nước ngoài hot nhất vào đúng dịp giáng sinh năm mới tại văn phòng mới của saigontourist ở 31k láng hạ q ba đình ngoài ra khi mua tour trong thời gian từ 2511 412 bạn sẽ được nhận thêm voucher quà tặng và nhiều phần quà khác tour hàn quốc 5 ngày seoul nami everland fanstatic show khởi hành 2912 giá từ 10900000 đồng tiết kiệm 1 triệu đồng tour nhật bản 6 ngày matsuyama okayama kobe kyoto osaka eo biển naruto khởi hành 2812 giá từ 27900000đ tiết kiệm 1 triệu đồng hồng kông free easy 4 ngày khởi hành 2912 giá từ 14990000đ tiết kiệm 1 triệu đồng thái lan 5 ngày hàng không vietnam airlines khởi hành 2212 giá từ 6999000đ tiết kiệm 1 triệu đồng singapore 4 ngày khởi hành 3012 giá từ 13690000đ tiết kiệm 300000 đồng liên hệ chi tiết du lịch trong nước 0975 502 148 du lịch nước ngoài 0904 148 446 tham khảo chi tiết tại httpwwwdulichthudongcomtinkhuyenmai_chitietphpnewsid11554 lữ hành saigontourist hà nội q hoàn kiếm 55b phan chu trinh q long biên 351 nguyễn văn cừ q tây hồ tầng 11 249a thụy khuê 0988356996 quảng ninh 358 đường hạ long tổ 3 khu 6 0936954858 hải phòng 02 trần quang khải 0987555588 saigontourist travel langhahanoi  \n",
       "10016                                                                                                                                                                                                                                                                                                                                                                                                                                                                                                                                                                                                                                                                                                                                                                                                                                                                                                    nhượng phòng không khép kín ở ngõ 63 xuân thủy giá 1tr1 đóng 1 tháng cọc 1 tháng hợp đồng hết tháng 8 điện 4ksố nước 100kngười mạng 60k xe máy 100k đạp điện 150k giờ giấc thoải mái có chìa khóa cổng đối diện học viện báo chí tuyên truyền gần chợ xanh 3 phòng chung 1 nhà tắm nhưng 2 phòng kia di làm sáng sớm tối mới về nên cũng thoải mái ạ cuối tháng có thể chuyển đến luôn phòng mát lắm nhé lh 01664792148  \n",
       "\n",
       "[10017 rows x 2 columns]"
      ]
     },
     "execution_count": 4,
     "metadata": {},
     "output_type": "execute_result"
    }
   ],
   "source": [
    "#Loại bỏ những thứ tạp nham\n",
    "pattern = r'(__label__\\w+)\\s((?:.(?!__label__))+)' \n",
    "matches_train = re.findall(pattern, processed_data_train, re.DOTALL)\n",
    "matches_test = re.findall(pattern, processed_data_test, re.DOTALL)\n",
    "\n",
    "# for match in matches:\n",
    "#     print(match)\n",
    "\n",
    "#Chuyển đổi danh sách các nhãn và nội dung thành DataFrame\n",
    "train_df = pd.DataFrame(matches_train, columns=['label', 'content'])\n",
    "test_df = pd.DataFrame(matches_test, columns=['label', 'content'])\n",
    "pd.set_option('display.max_colwidth', None)\n",
    "\n",
    "# In DataFrame để kiểm tra\n",
    "test_df"
   ]
  },
  {
   "cell_type": "code",
   "execution_count": 5,
   "metadata": {},
   "outputs": [
    {
     "name": "stderr",
     "output_type": "stream",
     "text": [
      "/opt/conda/lib/python3.11/site-packages/sklearn/feature_extraction/text.py:408: UserWarning: Your stop_words may be inconsistent with your preprocessing. Tokenizing the stop words generated tokens ['bao', 'bay', 'biến', 'biệt', 'bây', 'bõm', 'bảo', 'bất', 'bẩy', 'bập', 'bắt', 'bội', 'chao', 'chi', 'chia', 'chu', 'chui', 'chuẩn', 'chà', 'chành', 'chí', 'chót', 'chùn', 'chăn', 'chũn', 'chưng', 'chạnh', 'chả', 'chầm', 'chầy', 'chập', 'chắn', 'chẳng', 'chết', 'chốc', 'chừ', 'chừng', 'coi', 'cu', 'cá', 'câu', 'cóc', 'công', 'cạnh', 'cảm', 'cầu', 'cật', 'cắt', 'cổ', 'cụ', 'cục', 'cực', 'da', 'dà', 'dĩ', 'dưng', 'dần', 'dầu', 'dịp', 'dở', 'dụng', 'gian', 'giá', 'giác', 'giời', 'ha', 'hiện', 'hoàn', 'hèn', 'hình', 'hô', 'hầu', 'hậu', 'hẳn', 'hồ', 'hỗ', 'hội', 'hợp', 'hự', 'khói', 'khô', 'khăn', 'khắc', 'khẳng', 'kia', 'kiện', 'kê', 'kì', 'kìa', 'kỳ', 'lai', 'le', 'liên', 'liệt', 'loạt', 'luận', 'luật', 'luốt', 'lình', 'lí', 'lô', 'lý', 'lập', 'lẽ', 'lị', 'lự', 'lực', 'mày', 'mòi', 'mù', 'mạng', 'mấy', 'mẹ', 'mực', 'nghiễm', 'ngõ', 'ngăn', 'ngắt', 'ngộ', 'ngờ', 'nhiên', 'nhiêu', 'nhiệt', 'nhung', 'nhân', 'nhén', 'nhón', 'nhăng', 'nhược', 'nhỡ', 'nả', 'nỗi', 'nở', 'nức', 'oai', 'phi', 'phui', 'phàm', 'phù', 'phăn', 'phương', 'phỉ', 'quan', 'qui', 'quy', 'quyết', 'ren', 'riu', 'ríu', 'rón', 'rút', 'rốt', 'sa', 'sinh', 'song', 'sả', 'sẻ', 'sốt', 'sột', 'sở', 'sợ', 'sức', 'sử', 'ta', 'te', 'tha', 'than', 'thay', 'thi', 'thiên', 'thiết', 'thoảng', 'thành', 'thái', 'tháo', 'thân', 'thình', 'thúng', 'thương', 'thảo', 'thảy', 'thắng', 'thể', 'thỉnh', 'thị', 'thời', 'thục', 'thử', 'thực', 'tiên', 'tiếp', 'tiện', 'tiệt', 'toàn', 'toé', 'trung', 'tráo', 'trình', 'trí', 'trạng', 'trạo', 'trếu', 'trệu', 'trị', 'trọi', 'trọng', 'trời', 'trở', 'trợ', 'trừ', 'trực', 'tuyệt', 'tuần', 'tuốt', 'tuồn', 'tuồng', 'tuột', 'tà', 'tàn', 'tán', 'tâm', 'tê', 'tì', 'tình', 'tít', 'tò', 'tông', 'tù', 'tăm', 'tả', 'tất', 'tần', 'tập', 'tật', 'tế', 'tề', 'tỏ', 'tốc', 'tối', 'tục', 'tức', 'tử', 'tựu', 'vung', 'vàn', 'ví', 'vô', 'văng', 'vạn', 'vả', 'vấn', 'vẻ', 'vị', 'vốn', 'xiết', 'xon', 'xoành', 'xoạch', 'xuất', 'xón', 'xúi', 'xăm', 'xưa', 'xả', 'xảy', 'xắm', 'xềnh', 'xệch', 'xử', 'xửa', 'yêu', 'âu', 'ôi', 'đi', 'đành', 'đán', 'đánh', 'đáo', 'đùng', 'đơn', 'đạch', 'đại', 'đảm', 'đất', 'đấy', 'đầu', 'đặc', 'đề', 'địa', 'định', 'đối', 'đồ', 'đồng', 'đổi', 'ơn', 'ầu', 'ối'] not in stop_words.\n",
      "  warnings.warn(\n"
     ]
    }
   ],
   "source": [
    "\n",
    "with open('/app/vietnamese-stopwords.txt', 'r', encoding='utf-8') as f:\n",
    "    vietnamese_stopwords = [line.strip() for line in f]\n",
    "\n",
    "## Biểu diễn văn bản bằng TF-IDF\n",
    "tfidf = TfidfVectorizer(stop_words=vietnamese_stopwords)\n",
    "X_train_tfidf = tfidf.fit_transform(train_df['content'])\n",
    "X_test_tfidf = tfidf.transform(test_df['content'])\n"
   ]
  },
  {
   "cell_type": "code",
   "execution_count": 6,
   "metadata": {},
   "outputs": [],
   "source": [
    "# Biểu diễn nhãn dưới dạng số\n",
    "from sklearn.preprocessing import LabelEncoder\n",
    "le = LabelEncoder()\n",
    "y_train = le.fit_transform(train_df['label'])\n",
    "y_test = le.transform(test_df['label'])"
   ]
  },
  {
   "cell_type": "code",
   "execution_count": 7,
   "metadata": {},
   "outputs": [
    {
     "data": {
      "text/html": [
       "<style>#sk-container-id-1 {color: black;}#sk-container-id-1 pre{padding: 0;}#sk-container-id-1 div.sk-toggleable {background-color: white;}#sk-container-id-1 label.sk-toggleable__label {cursor: pointer;display: block;width: 100%;margin-bottom: 0;padding: 0.3em;box-sizing: border-box;text-align: center;}#sk-container-id-1 label.sk-toggleable__label-arrow:before {content: \"▸\";float: left;margin-right: 0.25em;color: #696969;}#sk-container-id-1 label.sk-toggleable__label-arrow:hover:before {color: black;}#sk-container-id-1 div.sk-estimator:hover label.sk-toggleable__label-arrow:before {color: black;}#sk-container-id-1 div.sk-toggleable__content {max-height: 0;max-width: 0;overflow: hidden;text-align: left;background-color: #f0f8ff;}#sk-container-id-1 div.sk-toggleable__content pre {margin: 0.2em;color: black;border-radius: 0.25em;background-color: #f0f8ff;}#sk-container-id-1 input.sk-toggleable__control:checked~div.sk-toggleable__content {max-height: 200px;max-width: 100%;overflow: auto;}#sk-container-id-1 input.sk-toggleable__control:checked~label.sk-toggleable__label-arrow:before {content: \"▾\";}#sk-container-id-1 div.sk-estimator input.sk-toggleable__control:checked~label.sk-toggleable__label {background-color: #d4ebff;}#sk-container-id-1 div.sk-label input.sk-toggleable__control:checked~label.sk-toggleable__label {background-color: #d4ebff;}#sk-container-id-1 input.sk-hidden--visually {border: 0;clip: rect(1px 1px 1px 1px);clip: rect(1px, 1px, 1px, 1px);height: 1px;margin: -1px;overflow: hidden;padding: 0;position: absolute;width: 1px;}#sk-container-id-1 div.sk-estimator {font-family: monospace;background-color: #f0f8ff;border: 1px dotted black;border-radius: 0.25em;box-sizing: border-box;margin-bottom: 0.5em;}#sk-container-id-1 div.sk-estimator:hover {background-color: #d4ebff;}#sk-container-id-1 div.sk-parallel-item::after {content: \"\";width: 100%;border-bottom: 1px solid gray;flex-grow: 1;}#sk-container-id-1 div.sk-label:hover label.sk-toggleable__label {background-color: #d4ebff;}#sk-container-id-1 div.sk-serial::before {content: \"\";position: absolute;border-left: 1px solid gray;box-sizing: border-box;top: 0;bottom: 0;left: 50%;z-index: 0;}#sk-container-id-1 div.sk-serial {display: flex;flex-direction: column;align-items: center;background-color: white;padding-right: 0.2em;padding-left: 0.2em;position: relative;}#sk-container-id-1 div.sk-item {position: relative;z-index: 1;}#sk-container-id-1 div.sk-parallel {display: flex;align-items: stretch;justify-content: center;background-color: white;position: relative;}#sk-container-id-1 div.sk-item::before, #sk-container-id-1 div.sk-parallel-item::before {content: \"\";position: absolute;border-left: 1px solid gray;box-sizing: border-box;top: 0;bottom: 0;left: 50%;z-index: -1;}#sk-container-id-1 div.sk-parallel-item {display: flex;flex-direction: column;z-index: 1;position: relative;background-color: white;}#sk-container-id-1 div.sk-parallel-item:first-child::after {align-self: flex-end;width: 50%;}#sk-container-id-1 div.sk-parallel-item:last-child::after {align-self: flex-start;width: 50%;}#sk-container-id-1 div.sk-parallel-item:only-child::after {width: 0;}#sk-container-id-1 div.sk-dashed-wrapped {border: 1px dashed gray;margin: 0 0.4em 0.5em 0.4em;box-sizing: border-box;padding-bottom: 0.4em;background-color: white;}#sk-container-id-1 div.sk-label label {font-family: monospace;font-weight: bold;display: inline-block;line-height: 1.2em;}#sk-container-id-1 div.sk-label-container {text-align: center;}#sk-container-id-1 div.sk-container {/* jupyter's `normalize.less` sets `[hidden] { display: none; }` but bootstrap.min.css set `[hidden] { display: none !important; }` so we also need the `!important` here to be able to override the default hidden behavior on the sphinx rendered scikit-learn.org. See: https://github.com/scikit-learn/scikit-learn/issues/21755 */display: inline-block !important;position: relative;}#sk-container-id-1 div.sk-text-repr-fallback {display: none;}</style><div id=\"sk-container-id-1\" class=\"sk-top-container\"><div class=\"sk-text-repr-fallback\"><pre>LogisticRegression(max_iter=1000)</pre><b>In a Jupyter environment, please rerun this cell to show the HTML representation or trust the notebook. <br />On GitHub, the HTML representation is unable to render, please try loading this page with nbviewer.org.</b></div><div class=\"sk-container\" hidden><div class=\"sk-item\"><div class=\"sk-estimator sk-toggleable\"><input class=\"sk-toggleable__control sk-hidden--visually\" id=\"sk-estimator-id-1\" type=\"checkbox\" checked><label for=\"sk-estimator-id-1\" class=\"sk-toggleable__label sk-toggleable__label-arrow\">LogisticRegression</label><div class=\"sk-toggleable__content\"><pre>LogisticRegression(max_iter=1000)</pre></div></div></div></div></div>"
      ],
      "text/plain": [
       "LogisticRegression(max_iter=1000)"
      ]
     },
     "execution_count": 7,
     "metadata": {},
     "output_type": "execute_result"
    }
   ],
   "source": [
    "# Huấn luyện mô hình Logistic Regression với TF-IDF\n",
    "model = LogisticRegression(max_iter=1000)\n",
    "model.fit(X_train_tfidf, y_train)\n"
   ]
  },
  {
   "cell_type": "code",
   "execution_count": 9,
   "metadata": {},
   "outputs": [
    {
     "name": "stdout",
     "output_type": "stream",
     "text": [
      "Classification Report:\n",
      "                                        precision    recall  f1-score   support\n",
      "\n",
      "                   __label__chinh_tri       0.94      0.97      0.95       472\n",
      "         __label__con_nguoi_va_xa_hoi       0.95      0.95      0.95       205\n",
      "               __label__cong_nghe_moi       1.00      0.15      0.26        20\n",
      "            __label__do_an_va_do_uong       0.97      0.99      0.98      1425\n",
      "                     __label__du_lich       0.95      0.96      0.95       606\n",
      "                    __label__giai_tri       1.00      0.98      0.99       114\n",
      "                    __label__giao_duc       0.93      0.94      0.93       460\n",
      "                  __label__giao_thong       0.94      0.88      0.91        50\n",
      "                    __label__khoa_hoc       0.99      0.76      0.86        92\n",
      "   __label__kinh_doanh_va_cong_nghiep       0.53      0.68      0.60      1407\n",
      "         __label__lam_dep_va_the_hinh       0.98      0.92      0.95       181\n",
      " __label__mang_internet_va_vien_thong       0.99      0.97      0.98       401\n",
      "__label__may_tinh_va_thiet_bi_dien_tu       1.00      0.93      0.97       119\n",
      "                     __label__mua_sam       0.90      0.95      0.92       762\n",
      "                  __label__nghe_thuat       1.00      0.98      0.99       398\n",
      "                     __label__nha_dat       0.97      0.98      0.97      1624\n",
      "                 __label__nha_va_vuon       0.99      0.86      0.92       158\n",
      "                   __label__phap_luat       0.91      0.54      0.68        80\n",
      "                        __label__sach       0.97      0.94      0.95       249\n",
      "        __label__suc_khoe_va_benh_tat       0.86      0.68      0.76       114\n",
      "                   __label__tai_chinh       0.32      0.20      0.25       906\n",
      "                    __label__the_thao       0.98      0.83      0.90        52\n",
      "       __label__thoi_quen_va_so_thich       0.97      0.87      0.92       122\n",
      "\n",
      "                             accuracy                           0.84     10017\n",
      "                            macro avg       0.91      0.82      0.85     10017\n",
      "                         weighted avg       0.84      0.84      0.84     10017\n",
      "\n"
     ]
    }
   ],
   "source": [
    "# Đánh giá mô hình\n",
    "y_pred = model.predict(X_test_tfidf)\n",
    "print(\"Classification Report:\\n\", classification_report(y_test, y_pred, target_names=le.classes_))"
   ]
  },
  {
   "cell_type": "code",
   "execution_count": 10,
   "metadata": {},
   "outputs": [
    {
     "name": "stdout",
     "output_type": "stream",
     "text": [
      "content: gấp hiện bên em đang cần thuê 1 phòng có diện tích từ 25m đến 40m tại khu vực yên lãng ngã tư sở hoặ...\n",
      "True Label: __label__nha_dat, Predicted Label: __label__nha_dat\n",
      "\n",
      "content: chào noel đón mưa quà tặng nhân dịp noel viettel triển khai chương trình khuyến mại với nhiều ưu đãi...\n",
      "True Label: __label__mang_internet_va_vien_thong, Predicted Label: __label__mang_internet_va_vien_thong\n",
      "\n",
      "content: khởi công xây dựng 33 căn nhà phố liền kề chỉ 600 triệu căn cơ hội để đầu tư đất nền chỉ 275trnền tặ...\n",
      "True Label: __label__kinh_doanh_va_cong_nghiep, Predicted Label: __label__nha_dat\n",
      "\n",
      "content: sáng ngày hôm nay btc rất vui khi nhận được sách tài trợ của nhà sách nhã nam chắc hẳn các bạn độc g...\n",
      "True Label: __label__sach, Predicted Label: __label__sach\n",
      "\n",
      "content: cần cho thuê căn hộ chung cư dưới sài đồng đối diện vimhom long biên nhà thang máy 98 m2 có 2 pn 1 p...\n",
      "True Label: __label__nha_dat, Predicted Label: __label__nha_dat\n",
      "\n",
      "content: bài dự thi của ban nhạc old mac donal band ban nhạc old mac donal band lớp cảm thụ âm nhạc ray 1 cầu...\n",
      "True Label: __label__nghe_thuat, Predicted Label: __label__nghe_thuat\n",
      "\n",
      "content: chào mừng kỷ niệm 68 năm quốc khánh nước cộng hòa xã hội chủ nghĩa việt nam 291945 292013 hỡi đồng b...\n",
      "True Label: __label__chinh_tri, Predicted Label: __label__chinh_tri\n",
      "\n",
      "content: tìm người ở ghép mk đang thuê phòng ở 1 mk muốn tìm người ở cùng yêu cầu nữ sạch sẽ gọn gàng thật th...\n",
      "True Label: __label__nha_dat, Predicted Label: __label__nha_dat\n",
      "\n",
      "content: miễn thi môn ngoại ngữ trong xét tốt nghiệp thpt năm 2015 số tư liệu 5633bgdđtktkđclgd kính gửi các ...\n",
      "True Label: __label__giao_duc, Predicted Label: __label__giao_duc\n",
      "\n",
      "content: lịch đăng sách hôm nay 065 nếu bạn mới mua lần đầu vui lòng xem qua cách thức mua sách thanh toán gi...\n",
      "True Label: __label__sach, Predicted Label: __label__sach\n",
      "\n"
     ]
    }
   ],
   "source": [
    "for i in range(10):  # in ra 10 dự đoán đầu tiên\n",
    "    index = i  # chỉ số của mẫu trong tập test\n",
    "    predicted_label = le.inverse_transform([y_pred[index]])[0]\n",
    "    true_label = test_df.loc[index, 'label']\n",
    "    text = test_df.loc[index, 'content']\n",
    "    print(f\"content: {text[:100]}...\")\n",
    "    print(f\"True Label: {true_label}, Predicted Label: {predicted_label}\")\n",
    "    print()"
   ]
  }
 ],
 "metadata": {
  "kernelspec": {
   "display_name": "Python 3 (ipykernel)",
   "language": "python",
   "name": "python3"
  },
  "language_info": {
   "codemirror_mode": {
    "name": "ipython",
    "version": 3
   },
   "file_extension": ".py",
   "mimetype": "text/x-python",
   "name": "python",
   "nbconvert_exporter": "python",
   "pygments_lexer": "ipython3",
   "version": "3.11.6"
  }
 },
 "nbformat": 4,
 "nbformat_minor": 2
}
